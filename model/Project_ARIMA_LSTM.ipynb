{
 "cells": [
  {
   "cell_type": "code",
   "execution_count": 1,
   "id": "6ad3098f",
   "metadata": {},
   "outputs": [],
   "source": [
    "import warnings\n",
    "warnings.filterwarnings(\"ignore\", category=Warning)\n",
    "\n",
    "import pandas as pd\n",
    "import numpy as np\n",
    "import matplotlib.pyplot as plt\n",
    "from sktime.forecasting.all import temporal_train_test_split\n",
    "import statsmodels.api as sm\n",
    "import pmdarima as pm\n",
    "from sktime.forecasting.arima import ARIMA\n",
    "from statsmodels.tsa.stattools import kpss, adfuller\n",
    "from statsmodels.graphics.tsaplots import plot_acf, plot_pacf\n",
    "from sktime.performance_metrics.forecasting import mean_absolute_error, mean_squared_error, mean_absolute_percentage_error"
   ]
  },
  {
   "cell_type": "code",
   "execution_count": 23,
   "id": "098ea052",
   "metadata": {},
   "outputs": [
    {
     "data": {
      "text/html": [
       "<div>\n",
       "<style scoped>\n",
       "    .dataframe tbody tr th:only-of-type {\n",
       "        vertical-align: middle;\n",
       "    }\n",
       "\n",
       "    .dataframe tbody tr th {\n",
       "        vertical-align: top;\n",
       "    }\n",
       "\n",
       "    .dataframe thead th {\n",
       "        text-align: right;\n",
       "    }\n",
       "</style>\n",
       "<table border=\"1\" class=\"dataframe\">\n",
       "  <thead>\n",
       "    <tr style=\"text-align: right;\">\n",
       "      <th></th>\n",
       "      <th>Date</th>\n",
       "      <th>Open</th>\n",
       "      <th>High</th>\n",
       "      <th>Low</th>\n",
       "      <th>Close</th>\n",
       "      <th>Adj Close</th>\n",
       "      <th>Volume</th>\n",
       "    </tr>\n",
       "  </thead>\n",
       "  <tbody>\n",
       "    <tr>\n",
       "      <th>0</th>\n",
       "      <td>2017-04-24</td>\n",
       "      <td>144.960007</td>\n",
       "      <td>145.669998</td>\n",
       "      <td>144.339996</td>\n",
       "      <td>145.470001</td>\n",
       "      <td>145.470001</td>\n",
       "      <td>14407200</td>\n",
       "    </tr>\n",
       "    <tr>\n",
       "      <th>1</th>\n",
       "      <td>2017-04-25</td>\n",
       "      <td>145.789993</td>\n",
       "      <td>147.149994</td>\n",
       "      <td>145.789993</td>\n",
       "      <td>146.490005</td>\n",
       "      <td>146.490005</td>\n",
       "      <td>17767500</td>\n",
       "    </tr>\n",
       "    <tr>\n",
       "      <th>2</th>\n",
       "      <td>2017-04-26</td>\n",
       "      <td>147.089996</td>\n",
       "      <td>147.589996</td>\n",
       "      <td>146.089996</td>\n",
       "      <td>146.559998</td>\n",
       "      <td>146.559998</td>\n",
       "      <td>12395000</td>\n",
       "    </tr>\n",
       "    <tr>\n",
       "      <th>3</th>\n",
       "      <td>2017-04-27</td>\n",
       "      <td>146.669998</td>\n",
       "      <td>147.750000</td>\n",
       "      <td>146.139999</td>\n",
       "      <td>147.699997</td>\n",
       "      <td>147.699997</td>\n",
       "      <td>11275100</td>\n",
       "    </tr>\n",
       "    <tr>\n",
       "      <th>4</th>\n",
       "      <td>2017-04-28</td>\n",
       "      <td>149.500000</td>\n",
       "      <td>151.529999</td>\n",
       "      <td>149.070007</td>\n",
       "      <td>150.250000</td>\n",
       "      <td>150.250000</td>\n",
       "      <td>30652200</td>\n",
       "    </tr>\n",
       "  </tbody>\n",
       "</table>\n",
       "</div>"
      ],
      "text/plain": [
       "         Date        Open        High         Low       Close   Adj Close  \\\n",
       "0  2017-04-24  144.960007  145.669998  144.339996  145.470001  145.470001   \n",
       "1  2017-04-25  145.789993  147.149994  145.789993  146.490005  146.490005   \n",
       "2  2017-04-26  147.089996  147.589996  146.089996  146.559998  146.559998   \n",
       "3  2017-04-27  146.669998  147.750000  146.139999  147.699997  147.699997   \n",
       "4  2017-04-28  149.500000  151.529999  149.070007  150.250000  150.250000   \n",
       "\n",
       "     Volume  \n",
       "0  14407200  \n",
       "1  17767500  \n",
       "2  12395000  \n",
       "3  11275100  \n",
       "4  30652200  "
      ]
     },
     "execution_count": 23,
     "metadata": {},
     "output_type": "execute_result"
    }
   ],
   "source": [
    "data = pd.read_csv('./data/FB.csv')\n",
    "data.head()"
   ]
  },
  {
   "cell_type": "code",
   "execution_count": 3,
   "id": "a8c82da9",
   "metadata": {},
   "outputs": [
    {
     "data": {
      "text/html": [
       "<div>\n",
       "<style scoped>\n",
       "    .dataframe tbody tr th:only-of-type {\n",
       "        vertical-align: middle;\n",
       "    }\n",
       "\n",
       "    .dataframe tbody tr th {\n",
       "        vertical-align: top;\n",
       "    }\n",
       "\n",
       "    .dataframe thead th {\n",
       "        text-align: right;\n",
       "    }\n",
       "</style>\n",
       "<table border=\"1\" class=\"dataframe\">\n",
       "  <thead>\n",
       "    <tr style=\"text-align: right;\">\n",
       "      <th></th>\n",
       "      <th>Date</th>\n",
       "      <th>Open</th>\n",
       "      <th>High</th>\n",
       "      <th>Low</th>\n",
       "      <th>Close</th>\n",
       "      <th>Adj Close</th>\n",
       "      <th>Volume</th>\n",
       "    </tr>\n",
       "  </thead>\n",
       "  <tbody>\n",
       "    <tr>\n",
       "      <th>1254</th>\n",
       "      <td>2022-04-14</td>\n",
       "      <td>214.889999</td>\n",
       "      <td>214.990005</td>\n",
       "      <td>210.000000</td>\n",
       "      <td>210.179993</td>\n",
       "      <td>210.179993</td>\n",
       "      <td>18332700</td>\n",
       "    </tr>\n",
       "    <tr>\n",
       "      <th>1255</th>\n",
       "      <td>2022-04-18</td>\n",
       "      <td>210.000000</td>\n",
       "      <td>213.380005</td>\n",
       "      <td>208.300003</td>\n",
       "      <td>210.770004</td>\n",
       "      <td>210.770004</td>\n",
       "      <td>16580800</td>\n",
       "    </tr>\n",
       "    <tr>\n",
       "      <th>1256</th>\n",
       "      <td>2022-04-19</td>\n",
       "      <td>210.520004</td>\n",
       "      <td>218.429993</td>\n",
       "      <td>209.000000</td>\n",
       "      <td>217.309998</td>\n",
       "      <td>217.309998</td>\n",
       "      <td>20089900</td>\n",
       "    </tr>\n",
       "    <tr>\n",
       "      <th>1257</th>\n",
       "      <td>2022-04-20</td>\n",
       "      <td>213.610001</td>\n",
       "      <td>214.160004</td>\n",
       "      <td>198.919998</td>\n",
       "      <td>200.419998</td>\n",
       "      <td>200.419998</td>\n",
       "      <td>43036500</td>\n",
       "    </tr>\n",
       "    <tr>\n",
       "      <th>1258</th>\n",
       "      <td>2022-04-21</td>\n",
       "      <td>201.600006</td>\n",
       "      <td>202.970001</td>\n",
       "      <td>185.580002</td>\n",
       "      <td>188.070007</td>\n",
       "      <td>188.070007</td>\n",
       "      <td>49954100</td>\n",
       "    </tr>\n",
       "  </tbody>\n",
       "</table>\n",
       "</div>"
      ],
      "text/plain": [
       "            Date        Open        High         Low       Close   Adj Close  \\\n",
       "1254  2022-04-14  214.889999  214.990005  210.000000  210.179993  210.179993   \n",
       "1255  2022-04-18  210.000000  213.380005  208.300003  210.770004  210.770004   \n",
       "1256  2022-04-19  210.520004  218.429993  209.000000  217.309998  217.309998   \n",
       "1257  2022-04-20  213.610001  214.160004  198.919998  200.419998  200.419998   \n",
       "1258  2022-04-21  201.600006  202.970001  185.580002  188.070007  188.070007   \n",
       "\n",
       "        Volume  \n",
       "1254  18332700  \n",
       "1255  16580800  \n",
       "1256  20089900  \n",
       "1257  43036500  \n",
       "1258  49954100  "
      ]
     },
     "execution_count": 3,
     "metadata": {},
     "output_type": "execute_result"
    }
   ],
   "source": [
    "data.tail()"
   ]
  },
  {
   "cell_type": "markdown",
   "id": "1e15a529",
   "metadata": {},
   "source": [
    "Transform the Date column into DatetimeIndex."
   ]
  },
  {
   "cell_type": "code",
   "execution_count": 24,
   "id": "6c1de3a8",
   "metadata": {},
   "outputs": [],
   "source": [
    "data['Date'] = pd.to_datetime(data['Date'])\n",
    "data.index = pd.core.indexes.period.PeriodIndex(data['Date'].tolist(), freq='B')"
   ]
  },
  {
   "cell_type": "markdown",
   "id": "602ad43a",
   "metadata": {},
   "source": [
    "We will only use the close price for this project."
   ]
  },
  {
   "cell_type": "code",
   "execution_count": 4,
   "id": "e8a0030b",
   "metadata": {},
   "outputs": [
    {
     "data": {
      "text/plain": [
       "<AxesSubplot:>"
      ]
     },
     "execution_count": 4,
     "metadata": {},
     "output_type": "execute_result"
    },
    {
     "data": {
      "image/png": "[encoded data removed]",
      "text/plain": [
       "<Figure size 432x288 with 1 Axes>"
      ]
     },
     "metadata": {
      "needs_background": "light"
     },
     "output_type": "display_data"
    }
   ],
   "source": [
    "data['Close'].plot()"
   ]
  },
  {
   "cell_type": "markdown",
   "id": "9590a14f",
   "metadata": {},
   "source": [
    "### ARIMA"
   ]
  },
  {
   "cell_type": "markdown",
   "id": "2f46c5f9",
   "metadata": {},
   "source": [
    "Split the dataset into 80% train and 20% test."
   ]
  },
  {
   "cell_type": "code",
   "execution_count": 4,
   "id": "0ba45535",
   "metadata": {},
   "outputs": [],
   "source": [
    "y_train, y_test = temporal_train_test_split(data['Close'], train_size=0.8)"
   ]
  },
  {
   "cell_type": "code",
   "execution_count": 44,
   "id": "dfbdd3a6",
   "metadata": {},
   "outputs": [
    {
     "data": {
      "text/plain": [
       "PeriodIndex(['2021-04-23', '2021-04-26', '2021-04-27', '2021-04-28',\n",
       "             '2021-04-29', '2021-04-30', '2021-05-03', '2021-05-04',\n",
       "             '2021-05-05', '2021-05-06',\n",
       "             ...\n",
       "             '2022-04-07', '2022-04-08', '2022-04-11', '2022-04-12',\n",
       "             '2022-04-13', '2022-04-14', '2022-04-18', '2022-04-19',\n",
       "             '2022-04-20', '2022-04-21'],\n",
       "            dtype='period[B]', length=252)"
      ]
     },
     "execution_count": 44,
     "metadata": {},
     "output_type": "execute_result"
    }
   ],
   "source": [
    "y_test.index"
   ]
  },
  {
   "cell_type": "code",
   "execution_count": 11,
   "id": "e2b1a49d",
   "metadata": {},
   "outputs": [],
   "source": [
    "y_train_diff = y_train.diff().dropna()"
   ]
  },
  {
   "cell_type": "code",
   "execution_count": 12,
   "id": "18539433",
   "metadata": {},
   "outputs": [
    {
     "name": "stdout",
     "output_type": "stream",
     "text": [
      "stationarity from ad_fuller test: True\n"
     ]
    }
   ],
   "source": [
    "alpha=0.05\n",
    "\n",
    "ad_fuller_results = adfuller(y_train_diff)\n",
    "ad_fuller_pval = ad_fuller_results[1]\n",
    "ad_fuller_bool = ad_fuller_pval <= alpha\n",
    "\n",
    "print(f'stationarity from ad_fuller test: {ad_fuller_bool}')"
   ]
  },
  {
   "cell_type": "code",
   "execution_count": 13,
   "id": "e3465304",
   "metadata": {},
   "outputs": [
    {
     "name": "stdout",
     "output_type": "stream",
     "text": [
      "stationarity from KPSS test: True\n"
     ]
    }
   ],
   "source": [
    "kpss_test_results = kpss(y_train_diff)\n",
    "kpss_pval = kpss_test_results[1]\n",
    "kpss_test_bool = kpss_pval >= alpha\n",
    "\n",
    "print(f'stationarity from KPSS test: {kpss_test_bool}')"
   ]
  },
  {
   "cell_type": "code",
   "execution_count": 14,
   "id": "67c0e3ac",
   "metadata": {},
   "outputs": [
    {
     "data": {
      "image/png": "[encoded data removed]",
      "text/plain": [
       "<Figure size 432x288 with 1 Axes>"
      ]
     },
     "metadata": {
      "needs_background": "light"
     },
     "output_type": "display_data"
    }
   ],
   "source": [
    "y_train_diff.plot()\n",
    "plt.show()"
   ]
  },
  {
   "cell_type": "markdown",
   "id": "20ed93fe",
   "metadata": {},
   "source": [
    "Both the ADF and the KPSS test suggest the stationarity of the first-differenced data. Therefore, the non-seasonal differencing order should be 1. There is no seasonality."
   ]
  },
  {
   "cell_type": "code",
   "execution_count": 15,
   "id": "a28cf7ba",
   "metadata": {},
   "outputs": [
    {
     "data": {
      "image/png": "[encoded data removed]",
      "text/plain": [
       "<Figure size 432x288 with 1 Axes>"
      ]
     },
     "metadata": {
      "needs_background": "light"
     },
     "output_type": "display_data"
    }
   ],
   "source": [
    "plot_acf(y_train_diff)\n",
    "plt.show()"
   ]
  },
  {
   "cell_type": "code",
   "execution_count": 16,
   "id": "7a00b7c2",
   "metadata": {},
   "outputs": [
    {
     "data": {
      "image/png": "[encoded data removed]",
      "text/plain": [
       "<Figure size 432x288 with 1 Axes>"
      ]
     },
     "metadata": {
      "needs_background": "light"
     },
     "output_type": "display_data"
    }
   ],
   "source": [
    "plot_pacf(y_train_diff)\n",
    "plt.show()"
   ]
  },
  {
   "cell_type": "code",
   "execution_count": null,
   "id": "81e628a4",
   "metadata": {},
   "outputs": [],
   "source": [
    "auto_arima_model = pm.auto_arima(y_train, D=1, m=12)"
   ]
  },
  {
   "cell_type": "code",
   "execution_count": 23,
   "id": "db7b1d89",
   "metadata": {},
   "outputs": [
    {
     "data": {
      "text/html": [
       "<table class=\"simpletable\">\n",
       "<caption>SARIMAX Results</caption>\n",
       "<tr>\n",
       "  <th>Dep. Variable:</th>           <td>y</td>        <th>  No. Observations:  </th>   <td>1007</td>   \n",
       "</tr>\n",
       "<tr>\n",
       "  <th>Model:</th>           <td>SARIMAX(4, 1, 2)</td> <th>  Log Likelihood     </th> <td>-2910.719</td>\n",
       "</tr>\n",
       "<tr>\n",
       "  <th>Date:</th>            <td>Fri, 13 May 2022</td> <th>  AIC                </th> <td>5835.437</td> \n",
       "</tr>\n",
       "<tr>\n",
       "  <th>Time:</th>                <td>11:24:34</td>     <th>  BIC                </th> <td>5869.833</td> \n",
       "</tr>\n",
       "<tr>\n",
       "  <th>Sample:</th>                  <td>0</td>        <th>  HQIC               </th> <td>5848.506</td> \n",
       "</tr>\n",
       "<tr>\n",
       "  <th></th>                      <td> - 1007</td>     <th>                     </th>     <td> </td>    \n",
       "</tr>\n",
       "<tr>\n",
       "  <th>Covariance Type:</th>        <td>opg</td>       <th>                     </th>     <td> </td>    \n",
       "</tr>\n",
       "</table>\n",
       "<table class=\"simpletable\">\n",
       "<tr>\n",
       "     <td></td>       <th>coef</th>     <th>std err</th>      <th>z</th>      <th>P>|z|</th>  <th>[0.025</th>    <th>0.975]</th>  \n",
       "</tr>\n",
       "<tr>\n",
       "  <th>ar.L1</th>  <td>   -1.6919</td> <td>    0.047</td> <td>  -36.348</td> <td> 0.000</td> <td>   -1.783</td> <td>   -1.601</td>\n",
       "</tr>\n",
       "<tr>\n",
       "  <th>ar.L2</th>  <td>   -0.9256</td> <td>    0.068</td> <td>  -13.608</td> <td> 0.000</td> <td>   -1.059</td> <td>   -0.792</td>\n",
       "</tr>\n",
       "<tr>\n",
       "  <th>ar.L3</th>  <td>   -0.1187</td> <td>    0.056</td> <td>   -2.114</td> <td> 0.034</td> <td>   -0.229</td> <td>   -0.009</td>\n",
       "</tr>\n",
       "<tr>\n",
       "  <th>ar.L4</th>  <td>   -0.0710</td> <td>    0.032</td> <td>   -2.251</td> <td> 0.024</td> <td>   -0.133</td> <td>   -0.009</td>\n",
       "</tr>\n",
       "<tr>\n",
       "  <th>ma.L1</th>  <td>    1.6432</td> <td>    0.044</td> <td>   37.119</td> <td> 0.000</td> <td>    1.556</td> <td>    1.730</td>\n",
       "</tr>\n",
       "<tr>\n",
       "  <th>ma.L2</th>  <td>    0.8497</td> <td>    0.051</td> <td>   16.662</td> <td> 0.000</td> <td>    0.750</td> <td>    0.950</td>\n",
       "</tr>\n",
       "<tr>\n",
       "  <th>sigma2</th> <td>   19.0794</td> <td>    0.345</td> <td>   55.277</td> <td> 0.000</td> <td>   18.403</td> <td>   19.756</td>\n",
       "</tr>\n",
       "</table>\n",
       "<table class=\"simpletable\">\n",
       "<tr>\n",
       "  <th>Ljung-Box (L1) (Q):</th>     <td>0.00</td> <th>  Jarque-Bera (JB):  </th> <td>5279.99</td>\n",
       "</tr>\n",
       "<tr>\n",
       "  <th>Prob(Q):</th>                <td>0.96</td> <th>  Prob(JB):          </th>  <td>0.00</td>  \n",
       "</tr>\n",
       "<tr>\n",
       "  <th>Heteroskedasticity (H):</th> <td>2.71</td> <th>  Skew:              </th>  <td>-0.86</td> \n",
       "</tr>\n",
       "<tr>\n",
       "  <th>Prob(H) (two-sided):</th>    <td>0.00</td> <th>  Kurtosis:          </th>  <td>14.09</td> \n",
       "</tr>\n",
       "</table><br/><br/>Warnings:<br/>[1] Covariance matrix calculated using the outer product of gradients (complex-step)."
      ],
      "text/plain": [
       "<class 'statsmodels.iolib.summary.Summary'>\n",
       "\"\"\"\n",
       "                               SARIMAX Results                                \n",
       "==============================================================================\n",
       "Dep. Variable:                      y   No. Observations:                 1007\n",
       "Model:               SARIMAX(4, 1, 2)   Log Likelihood               -2910.719\n",
       "Date:                Fri, 13 May 2022   AIC                           5835.437\n",
       "Time:                        11:24:34   BIC                           5869.833\n",
       "Sample:                             0   HQIC                          5848.506\n",
       "                               - 1007                                         \n",
       "Covariance Type:                  opg                                         \n",
       "==============================================================================\n",
       "                 coef    std err          z      P>|z|      [0.025      0.975]\n",
       "------------------------------------------------------------------------------\n",
       "ar.L1         -1.6919      0.047    -36.348      0.000      -1.783      -1.601\n",
       "ar.L2         -0.9256      0.068    -13.608      0.000      -1.059      -0.792\n",
       "ar.L3         -0.1187      0.056     -2.114      0.034      -0.229      -0.009\n",
       "ar.L4         -0.0710      0.032     -2.251      0.024      -0.133      -0.009\n",
       "ma.L1          1.6432      0.044     37.119      0.000       1.556       1.730\n",
       "ma.L2          0.8497      0.051     16.662      0.000       0.750       0.950\n",
       "sigma2        19.0794      0.345     55.277      0.000      18.403      19.756\n",
       "===================================================================================\n",
       "Ljung-Box (L1) (Q):                   0.00   Jarque-Bera (JB):              5279.99\n",
       "Prob(Q):                              0.96   Prob(JB):                         0.00\n",
       "Heteroskedasticity (H):               2.71   Skew:                            -0.86\n",
       "Prob(H) (two-sided):                  0.00   Kurtosis:                        14.09\n",
       "===================================================================================\n",
       "\n",
       "Warnings:\n",
       "[1] Covariance matrix calculated using the outer product of gradients (complex-step).\n",
       "\"\"\""
      ]
     },
     "execution_count": 23,
     "metadata": {},
     "output_type": "execute_result"
    }
   ],
   "source": [
    "auto_arima_model.summary()"
   ]
  },
  {
   "cell_type": "markdown",
   "id": "52a7f180",
   "metadata": {},
   "source": [
    "The Auto ARIMA suggests an ARIMA(4,1,2) process."
   ]
  },
  {
   "cell_type": "code",
   "execution_count": 40,
   "id": "426c9592",
   "metadata": {},
   "outputs": [
    {
     "name": "stdout",
     "output_type": "stream",
     "text": [
      "                               SARIMAX Results                                \n",
      "==============================================================================\n",
      "Dep. Variable:                  Close   No. Observations:                 1007\n",
      "Model:               SARIMAX(4, 1, 2)   Log Likelihood               -2910.719\n",
      "Date:                Fri, 13 May 2022   AIC                           5835.437\n",
      "Time:                        11:40:37   BIC                           5869.833\n",
      "Sample:                    04-24-2017   HQIC                          5848.506\n",
      "                         - 04-22-2021                                         \n",
      "Covariance Type:                  opg                                         \n",
      "==============================================================================\n",
      "                 coef    std err          z      P>|z|      [0.025      0.975]\n",
      "------------------------------------------------------------------------------\n",
      "ar.L1         -1.6919      0.047    -36.348      0.000      -1.783      -1.601\n",
      "ar.L2         -0.9256      0.068    -13.608      0.000      -1.059      -0.792\n",
      "ar.L3         -0.1187      0.056     -2.114      0.034      -0.229      -0.009\n",
      "ar.L4         -0.0710      0.032     -2.251      0.024      -0.133      -0.009\n",
      "ma.L1          1.6432      0.044     37.119      0.000       1.556       1.730\n",
      "ma.L2          0.8497      0.051     16.662      0.000       0.750       0.950\n",
      "sigma2        19.0794      0.345     55.277      0.000      18.403      19.756\n",
      "===================================================================================\n",
      "Ljung-Box (L1) (Q):                   0.00   Jarque-Bera (JB):              5279.99\n",
      "Prob(Q):                              0.96   Prob(JB):                         0.00\n",
      "Heteroskedasticity (H):               2.71   Skew:                            -0.86\n",
      "Prob(H) (two-sided):                  0.00   Kurtosis:                        14.09\n",
      "===================================================================================\n",
      "\n",
      "Warnings:\n",
      "[1] Covariance matrix calculated using the outer product of gradients (complex-step).\n"
     ]
    }
   ],
   "source": [
    "arima_model = sm.tsa.statespace.SARIMAX(endog=y_train,order=(4,1,2))\n",
    "arima_fit = arima_model.fit()\n",
    "print(arima_fit.summary())"
   ]
  },
  {
   "cell_type": "code",
   "execution_count": 32,
   "id": "722e19d5",
   "metadata": {},
   "outputs": [
    {
     "data": {
      "text/plain": [
       "2017-04-24    145.470001\n",
       "2017-04-25      1.020211\n",
       "2017-04-26      0.143404\n",
       "2017-04-27      1.124715\n",
       "2017-04-28      2.715867\n",
       "Freq: B, dtype: float64"
      ]
     },
     "execution_count": 32,
     "metadata": {},
     "output_type": "execute_result"
    }
   ],
   "source": [
    "resid = arima_fit.resid\n",
    "resid.head()"
   ]
  },
  {
   "cell_type": "code",
   "execution_count": 33,
   "id": "f7844db7",
   "metadata": {},
   "outputs": [
    {
     "data": {
      "text/plain": [
       "<AxesSubplot:>"
      ]
     },
     "execution_count": 33,
     "metadata": {},
     "output_type": "execute_result"
    },
    {
     "data": {
      "image/png": "[encoded data removed]",
      "text/plain": [
       "<Figure size 432x288 with 1 Axes>"
      ]
     },
     "metadata": {
      "needs_background": "light"
     },
     "output_type": "display_data"
    }
   ],
   "source": [
    "resid = resid[1:]\n",
    "resid.plot()"
   ]
  },
  {
   "cell_type": "code",
   "execution_count": 34,
   "id": "25e6ba1a",
   "metadata": {},
   "outputs": [
    {
     "data": {
      "text/plain": [
       "<AxesSubplot:>"
      ]
     },
     "execution_count": 34,
     "metadata": {},
     "output_type": "execute_result"
    },
    {
     "data": {
      "image/png": "[encoded data removed]",
      "text/plain": [
       "<Figure size 432x288 with 1 Axes>"
      ]
     },
     "metadata": {
      "needs_background": "light"
     },
     "output_type": "display_data"
    }
   ],
   "source": [
    "resid.hist()"
   ]
  },
  {
   "cell_type": "code",
   "execution_count": 35,
   "id": "a26249c7",
   "metadata": {},
   "outputs": [
    {
     "data": {
      "image/png": "[encoded data removed]",
      "text/plain": [
       "<Figure size 432x288 with 1 Axes>"
      ]
     },
     "metadata": {
      "needs_background": "light"
     },
     "output_type": "display_data"
    }
   ],
   "source": [
    "plot_acf(resid)\n",
    "plt.show()"
   ]
  },
  {
   "cell_type": "code",
   "execution_count": 36,
   "id": "71daff35",
   "metadata": {},
   "outputs": [
    {
     "data": {
      "text/html": [
       "<div>\n",
       "<style scoped>\n",
       "    .dataframe tbody tr th:only-of-type {\n",
       "        vertical-align: middle;\n",
       "    }\n",
       "\n",
       "    .dataframe tbody tr th {\n",
       "        vertical-align: top;\n",
       "    }\n",
       "\n",
       "    .dataframe thead th {\n",
       "        text-align: right;\n",
       "    }\n",
       "</style>\n",
       "<table border=\"1\" class=\"dataframe\">\n",
       "  <thead>\n",
       "    <tr style=\"text-align: right;\">\n",
       "      <th></th>\n",
       "      <th>lb_stat</th>\n",
       "      <th>lb_pvalue</th>\n",
       "      <th>bp_stat</th>\n",
       "      <th>bp_pvalue</th>\n",
       "    </tr>\n",
       "  </thead>\n",
       "  <tbody>\n",
       "    <tr>\n",
       "      <th>10</th>\n",
       "      <td>3.179971</td>\n",
       "      <td>0.976866</td>\n",
       "      <td>3.153866</td>\n",
       "      <td>0.977568</td>\n",
       "    </tr>\n",
       "  </tbody>\n",
       "</table>\n",
       "</div>"
      ],
      "text/plain": [
       "     lb_stat  lb_pvalue   bp_stat  bp_pvalue\n",
       "10  3.179971   0.976866  3.153866   0.977568"
      ]
     },
     "execution_count": 36,
     "metadata": {},
     "output_type": "execute_result"
    }
   ],
   "source": [
    "sm.stats.acorr_ljungbox(resid, lags=[10], return_df=True, boxpierce=True)"
   ]
  },
  {
   "cell_type": "markdown",
   "id": "3b722742",
   "metadata": {},
   "source": [
    "The plot of residuals show a stationary process. The histogram indicates some outliers. The ACF plot does not show significant lag values larger than 0. The p-value from Ljung Box is significantly larger than 0.05, indicating there is no lack of fit and that the model is a good fit."
   ]
  },
  {
   "cell_type": "code",
   "execution_count": 41,
   "id": "e79afbc5",
   "metadata": {},
   "outputs": [],
   "source": [
    "y_pred=arima_fit.forecast(steps = len(y_test))"
   ]
  },
  {
   "cell_type": "code",
   "execution_count": 46,
   "id": "faf1451b",
   "metadata": {},
   "outputs": [
    {
     "data": {
      "text/plain": [
       "<AxesSubplot:>"
      ]
     },
     "execution_count": 46,
     "metadata": {},
     "output_type": "execute_result"
    },
    {
     "data": {
      "image/png": "[encoded data removed]",
      "text/plain": [
       "<Figure size 432x288 with 1 Axes>"
      ]
     },
     "metadata": {
      "needs_background": "light"
     },
     "output_type": "display_data"
    }
   ],
   "source": [
    "y_train.plot()\n",
    "y_pred.plot(color='red')\n",
    "y_test.plot(color = 'black')"
   ]
  },
  {
   "cell_type": "markdown",
   "id": "ad6f5d31",
   "metadata": {},
   "source": [
    "The prediction on the test set is close to constant and does not capture the changes."
   ]
  },
  {
   "cell_type": "code",
   "execution_count": 31,
   "id": "28269b3a",
   "metadata": {},
   "outputs": [
    {
     "name": "stdout",
     "output_type": "stream",
     "text": [
      "MAE: 50.37304828770446\n",
      "MSE: 3185.7359903315537\n",
      "MAPE: 0.17919219847827825\n",
      "SMAPE: 0.17150823793527356\n"
     ]
    }
   ],
   "source": [
    "mae = mean_absolute_error(y_test, y_pred)\n",
    "print(f'MAE: {mae}')\n",
    "mse = mean_squared_error(y_test, y_pred)\n",
    "print(f'MSE: {mse}')\n",
    "mape = mean_absolute_percentage_error(y_test, y_pred, symmetric=False)\n",
    "print(f'MAPE: {mape}')\n",
    "smape = mean_absolute_percentage_error(y_test, y_pred)\n",
    "print(f'SMAPE: {smape}')"
   ]
  },
  {
   "cell_type": "markdown",
   "id": "5e81cf7f",
   "metadata": {},
   "source": [
    "## External Variables"
   ]
  },
  {
   "cell_type": "code",
   "execution_count": 25,
   "id": "aeb1543f",
   "metadata": {},
   "outputs": [
    {
     "data": {
      "text/html": [
       "<div>\n",
       "<style scoped>\n",
       "    .dataframe tbody tr th:only-of-type {\n",
       "        vertical-align: middle;\n",
       "    }\n",
       "\n",
       "    .dataframe tbody tr th {\n",
       "        vertical-align: top;\n",
       "    }\n",
       "\n",
       "    .dataframe thead th {\n",
       "        text-align: right;\n",
       "    }\n",
       "</style>\n",
       "<table border=\"1\" class=\"dataframe\">\n",
       "  <thead>\n",
       "    <tr style=\"text-align: right;\">\n",
       "      <th></th>\n",
       "      <th>events</th>\n",
       "      <th>dates</th>\n",
       "    </tr>\n",
       "  </thead>\n",
       "  <tbody>\n",
       "    <tr>\n",
       "      <th>0</th>\n",
       "      <td>Q1 2022 Earnings</td>\n",
       "      <td>27-Apr-22</td>\n",
       "    </tr>\n",
       "    <tr>\n",
       "      <th>1</th>\n",
       "      <td>Q4 2021 Earnings</td>\n",
       "      <td>2-Feb-22</td>\n",
       "    </tr>\n",
       "    <tr>\n",
       "      <th>2</th>\n",
       "      <td>Facebook changes name to Meta</td>\n",
       "      <td>1-Dec-21</td>\n",
       "    </tr>\n",
       "    <tr>\n",
       "      <th>3</th>\n",
       "      <td>Facebook Connect 2021 (announce new name)</td>\n",
       "      <td>28-Oct-21</td>\n",
       "    </tr>\n",
       "    <tr>\n",
       "      <th>4</th>\n",
       "      <td>Q3 2021 Earnings</td>\n",
       "      <td>25-Oct-21</td>\n",
       "    </tr>\n",
       "  </tbody>\n",
       "</table>\n",
       "</div>"
      ],
      "text/plain": [
       "                                      events      dates\n",
       "0                           Q1 2022 Earnings  27-Apr-22\n",
       "1                           Q4 2021 Earnings   2-Feb-22\n",
       "2              Facebook changes name to Meta   1-Dec-21\n",
       "3  Facebook Connect 2021 (announce new name)  28-Oct-21\n",
       "4                           Q3 2021 Earnings  25-Oct-21"
      ]
     },
     "execution_count": 25,
     "metadata": {},
     "output_type": "execute_result"
    }
   ],
   "source": [
    "event = pd.read_csv('./data/event_dates.csv')\n",
    "event.head()"
   ]
  },
  {
   "cell_type": "code",
   "execution_count": 26,
   "id": "1ba7d4d3",
   "metadata": {},
   "outputs": [
    {
     "data": {
      "text/html": [
       "<div>\n",
       "<style scoped>\n",
       "    .dataframe tbody tr th:only-of-type {\n",
       "        vertical-align: middle;\n",
       "    }\n",
       "\n",
       "    .dataframe tbody tr th {\n",
       "        vertical-align: top;\n",
       "    }\n",
       "\n",
       "    .dataframe thead th {\n",
       "        text-align: right;\n",
       "    }\n",
       "</style>\n",
       "<table border=\"1\" class=\"dataframe\">\n",
       "  <thead>\n",
       "    <tr style=\"text-align: right;\">\n",
       "      <th></th>\n",
       "      <th>events</th>\n",
       "      <th>dates</th>\n",
       "    </tr>\n",
       "  </thead>\n",
       "  <tbody>\n",
       "    <tr>\n",
       "      <th>0</th>\n",
       "      <td>1</td>\n",
       "      <td>2022-04-27</td>\n",
       "    </tr>\n",
       "    <tr>\n",
       "      <th>1</th>\n",
       "      <td>1</td>\n",
       "      <td>2022-02-02</td>\n",
       "    </tr>\n",
       "    <tr>\n",
       "      <th>2</th>\n",
       "      <td>1</td>\n",
       "      <td>2021-12-01</td>\n",
       "    </tr>\n",
       "    <tr>\n",
       "      <th>3</th>\n",
       "      <td>1</td>\n",
       "      <td>2021-10-28</td>\n",
       "    </tr>\n",
       "    <tr>\n",
       "      <th>4</th>\n",
       "      <td>1</td>\n",
       "      <td>2021-10-25</td>\n",
       "    </tr>\n",
       "  </tbody>\n",
       "</table>\n",
       "</div>"
      ],
      "text/plain": [
       "   events      dates\n",
       "0       1 2022-04-27\n",
       "1       1 2022-02-02\n",
       "2       1 2021-12-01\n",
       "3       1 2021-10-28\n",
       "4       1 2021-10-25"
      ]
     },
     "execution_count": 26,
     "metadata": {},
     "output_type": "execute_result"
    }
   ],
   "source": [
    "event['events'] = 1\n",
    "event['dates'] = pd.to_datetime(event['dates'])\n",
    "event.head()"
   ]
  },
  {
   "cell_type": "code",
   "execution_count": 27,
   "id": "64dc3008",
   "metadata": {},
   "outputs": [
    {
     "data": {
      "text/html": [
       "<div>\n",
       "<style scoped>\n",
       "    .dataframe tbody tr th:only-of-type {\n",
       "        vertical-align: middle;\n",
       "    }\n",
       "\n",
       "    .dataframe tbody tr th {\n",
       "        vertical-align: top;\n",
       "    }\n",
       "\n",
       "    .dataframe thead th {\n",
       "        text-align: right;\n",
       "    }\n",
       "</style>\n",
       "<table border=\"1\" class=\"dataframe\">\n",
       "  <thead>\n",
       "    <tr style=\"text-align: right;\">\n",
       "      <th></th>\n",
       "      <th>Date</th>\n",
       "      <th>Open</th>\n",
       "      <th>High</th>\n",
       "      <th>Low</th>\n",
       "      <th>Close</th>\n",
       "      <th>Adj Close</th>\n",
       "      <th>Volume</th>\n",
       "      <th>events</th>\n",
       "    </tr>\n",
       "  </thead>\n",
       "  <tbody>\n",
       "    <tr>\n",
       "      <th>0</th>\n",
       "      <td>2017-04-24</td>\n",
       "      <td>144.960007</td>\n",
       "      <td>145.669998</td>\n",
       "      <td>144.339996</td>\n",
       "      <td>145.470001</td>\n",
       "      <td>145.470001</td>\n",
       "      <td>14407200</td>\n",
       "      <td>0.0</td>\n",
       "    </tr>\n",
       "    <tr>\n",
       "      <th>1</th>\n",
       "      <td>2017-04-25</td>\n",
       "      <td>145.789993</td>\n",
       "      <td>147.149994</td>\n",
       "      <td>145.789993</td>\n",
       "      <td>146.490005</td>\n",
       "      <td>146.490005</td>\n",
       "      <td>17767500</td>\n",
       "      <td>0.0</td>\n",
       "    </tr>\n",
       "    <tr>\n",
       "      <th>2</th>\n",
       "      <td>2017-04-26</td>\n",
       "      <td>147.089996</td>\n",
       "      <td>147.589996</td>\n",
       "      <td>146.089996</td>\n",
       "      <td>146.559998</td>\n",
       "      <td>146.559998</td>\n",
       "      <td>12395000</td>\n",
       "      <td>0.0</td>\n",
       "    </tr>\n",
       "    <tr>\n",
       "      <th>3</th>\n",
       "      <td>2017-04-27</td>\n",
       "      <td>146.669998</td>\n",
       "      <td>147.750000</td>\n",
       "      <td>146.139999</td>\n",
       "      <td>147.699997</td>\n",
       "      <td>147.699997</td>\n",
       "      <td>11275100</td>\n",
       "      <td>0.0</td>\n",
       "    </tr>\n",
       "    <tr>\n",
       "      <th>4</th>\n",
       "      <td>2017-04-28</td>\n",
       "      <td>149.500000</td>\n",
       "      <td>151.529999</td>\n",
       "      <td>149.070007</td>\n",
       "      <td>150.250000</td>\n",
       "      <td>150.250000</td>\n",
       "      <td>30652200</td>\n",
       "      <td>0.0</td>\n",
       "    </tr>\n",
       "    <tr>\n",
       "      <th>...</th>\n",
       "      <td>...</td>\n",
       "      <td>...</td>\n",
       "      <td>...</td>\n",
       "      <td>...</td>\n",
       "      <td>...</td>\n",
       "      <td>...</td>\n",
       "      <td>...</td>\n",
       "      <td>...</td>\n",
       "    </tr>\n",
       "    <tr>\n",
       "      <th>1254</th>\n",
       "      <td>2022-04-14</td>\n",
       "      <td>214.889999</td>\n",
       "      <td>214.990005</td>\n",
       "      <td>210.000000</td>\n",
       "      <td>210.179993</td>\n",
       "      <td>210.179993</td>\n",
       "      <td>18332700</td>\n",
       "      <td>0.0</td>\n",
       "    </tr>\n",
       "    <tr>\n",
       "      <th>1255</th>\n",
       "      <td>2022-04-18</td>\n",
       "      <td>210.000000</td>\n",
       "      <td>213.380005</td>\n",
       "      <td>208.300003</td>\n",
       "      <td>210.770004</td>\n",
       "      <td>210.770004</td>\n",
       "      <td>16580800</td>\n",
       "      <td>0.0</td>\n",
       "    </tr>\n",
       "    <tr>\n",
       "      <th>1256</th>\n",
       "      <td>2022-04-19</td>\n",
       "      <td>210.520004</td>\n",
       "      <td>218.429993</td>\n",
       "      <td>209.000000</td>\n",
       "      <td>217.309998</td>\n",
       "      <td>217.309998</td>\n",
       "      <td>20089900</td>\n",
       "      <td>0.0</td>\n",
       "    </tr>\n",
       "    <tr>\n",
       "      <th>1257</th>\n",
       "      <td>2022-04-20</td>\n",
       "      <td>213.610001</td>\n",
       "      <td>214.160004</td>\n",
       "      <td>198.919998</td>\n",
       "      <td>200.419998</td>\n",
       "      <td>200.419998</td>\n",
       "      <td>43036500</td>\n",
       "      <td>0.0</td>\n",
       "    </tr>\n",
       "    <tr>\n",
       "      <th>1258</th>\n",
       "      <td>2022-04-21</td>\n",
       "      <td>201.600006</td>\n",
       "      <td>202.970001</td>\n",
       "      <td>185.580002</td>\n",
       "      <td>188.070007</td>\n",
       "      <td>188.070007</td>\n",
       "      <td>49954100</td>\n",
       "      <td>0.0</td>\n",
       "    </tr>\n",
       "  </tbody>\n",
       "</table>\n",
       "<p>1259 rows × 8 columns</p>\n",
       "</div>"
      ],
      "text/plain": [
       "           Date        Open        High         Low       Close   Adj Close  \\\n",
       "0    2017-04-24  144.960007  145.669998  144.339996  145.470001  145.470001   \n",
       "1    2017-04-25  145.789993  147.149994  145.789993  146.490005  146.490005   \n",
       "2    2017-04-26  147.089996  147.589996  146.089996  146.559998  146.559998   \n",
       "3    2017-04-27  146.669998  147.750000  146.139999  147.699997  147.699997   \n",
       "4    2017-04-28  149.500000  151.529999  149.070007  150.250000  150.250000   \n",
       "...         ...         ...         ...         ...         ...         ...   \n",
       "1254 2022-04-14  214.889999  214.990005  210.000000  210.179993  210.179993   \n",
       "1255 2022-04-18  210.000000  213.380005  208.300003  210.770004  210.770004   \n",
       "1256 2022-04-19  210.520004  218.429993  209.000000  217.309998  217.309998   \n",
       "1257 2022-04-20  213.610001  214.160004  198.919998  200.419998  200.419998   \n",
       "1258 2022-04-21  201.600006  202.970001  185.580002  188.070007  188.070007   \n",
       "\n",
       "        Volume  events  \n",
       "0     14407200     0.0  \n",
       "1     17767500     0.0  \n",
       "2     12395000     0.0  \n",
       "3     11275100     0.0  \n",
       "4     30652200     0.0  \n",
       "...        ...     ...  \n",
       "1254  18332700     0.0  \n",
       "1255  16580800     0.0  \n",
       "1256  20089900     0.0  \n",
       "1257  43036500     0.0  \n",
       "1258  49954100     0.0  \n",
       "\n",
       "[1259 rows x 8 columns]"
      ]
     },
     "execution_count": 27,
     "metadata": {},
     "output_type": "execute_result"
    }
   ],
   "source": [
    "data = pd.merge(data, event, how='left', left_on='Date', right_on='dates')\n",
    "data = data.drop(['dates'], axis=1).fillna(0)\n",
    "data"
   ]
  },
  {
   "cell_type": "code",
   "execution_count": 28,
   "id": "197fe3a5",
   "metadata": {},
   "outputs": [
    {
     "data": {
      "text/html": [
       "<div>\n",
       "<style scoped>\n",
       "    .dataframe tbody tr th:only-of-type {\n",
       "        vertical-align: middle;\n",
       "    }\n",
       "\n",
       "    .dataframe tbody tr th {\n",
       "        vertical-align: top;\n",
       "    }\n",
       "\n",
       "    .dataframe thead th {\n",
       "        text-align: right;\n",
       "    }\n",
       "</style>\n",
       "<table border=\"1\" class=\"dataframe\">\n",
       "  <thead>\n",
       "    <tr style=\"text-align: right;\">\n",
       "      <th></th>\n",
       "      <th>DATE</th>\n",
       "      <th>DFF</th>\n",
       "    </tr>\n",
       "  </thead>\n",
       "  <tbody>\n",
       "    <tr>\n",
       "      <th>2682</th>\n",
       "      <td>2022-05-15</td>\n",
       "      <td>0.83</td>\n",
       "    </tr>\n",
       "    <tr>\n",
       "      <th>2683</th>\n",
       "      <td>2022-05-16</td>\n",
       "      <td>0.83</td>\n",
       "    </tr>\n",
       "    <tr>\n",
       "      <th>2684</th>\n",
       "      <td>2022-05-17</td>\n",
       "      <td>0.83</td>\n",
       "    </tr>\n",
       "    <tr>\n",
       "      <th>2685</th>\n",
       "      <td>2022-05-18</td>\n",
       "      <td>0.83</td>\n",
       "    </tr>\n",
       "    <tr>\n",
       "      <th>2686</th>\n",
       "      <td>2022-05-19</td>\n",
       "      <td>0.83</td>\n",
       "    </tr>\n",
       "  </tbody>\n",
       "</table>\n",
       "</div>"
      ],
      "text/plain": [
       "            DATE   DFF\n",
       "2682  2022-05-15  0.83\n",
       "2683  2022-05-16  0.83\n",
       "2684  2022-05-17  0.83\n",
       "2685  2022-05-18  0.83\n",
       "2686  2022-05-19  0.83"
      ]
     },
     "execution_count": 28,
     "metadata": {},
     "output_type": "execute_result"
    }
   ],
   "source": [
    "dff = pd.read_csv('./data/DFF.csv')\n",
    "dff.tail()"
   ]
  },
  {
   "cell_type": "code",
   "execution_count": 29,
   "id": "3cbeaa5a",
   "metadata": {},
   "outputs": [],
   "source": [
    "dff['DATE'] = pd.to_datetime(dff['DATE'])"
   ]
  },
  {
   "cell_type": "code",
   "execution_count": 30,
   "id": "4ee30fbd",
   "metadata": {},
   "outputs": [
    {
     "data": {
      "text/html": [
       "<div>\n",
       "<style scoped>\n",
       "    .dataframe tbody tr th:only-of-type {\n",
       "        vertical-align: middle;\n",
       "    }\n",
       "\n",
       "    .dataframe tbody tr th {\n",
       "        vertical-align: top;\n",
       "    }\n",
       "\n",
       "    .dataframe thead th {\n",
       "        text-align: right;\n",
       "    }\n",
       "</style>\n",
       "<table border=\"1\" class=\"dataframe\">\n",
       "  <thead>\n",
       "    <tr style=\"text-align: right;\">\n",
       "      <th></th>\n",
       "      <th>Date</th>\n",
       "      <th>Open</th>\n",
       "      <th>High</th>\n",
       "      <th>Low</th>\n",
       "      <th>Close</th>\n",
       "      <th>Adj Close</th>\n",
       "      <th>Volume</th>\n",
       "      <th>events</th>\n",
       "      <th>DFF</th>\n",
       "    </tr>\n",
       "  </thead>\n",
       "  <tbody>\n",
       "    <tr>\n",
       "      <th>0</th>\n",
       "      <td>2017-04-24</td>\n",
       "      <td>144.960007</td>\n",
       "      <td>145.669998</td>\n",
       "      <td>144.339996</td>\n",
       "      <td>145.470001</td>\n",
       "      <td>145.470001</td>\n",
       "      <td>14407200</td>\n",
       "      <td>0.0</td>\n",
       "      <td>0.91</td>\n",
       "    </tr>\n",
       "    <tr>\n",
       "      <th>1</th>\n",
       "      <td>2017-04-25</td>\n",
       "      <td>145.789993</td>\n",
       "      <td>147.149994</td>\n",
       "      <td>145.789993</td>\n",
       "      <td>146.490005</td>\n",
       "      <td>146.490005</td>\n",
       "      <td>17767500</td>\n",
       "      <td>0.0</td>\n",
       "      <td>0.91</td>\n",
       "    </tr>\n",
       "    <tr>\n",
       "      <th>2</th>\n",
       "      <td>2017-04-26</td>\n",
       "      <td>147.089996</td>\n",
       "      <td>147.589996</td>\n",
       "      <td>146.089996</td>\n",
       "      <td>146.559998</td>\n",
       "      <td>146.559998</td>\n",
       "      <td>12395000</td>\n",
       "      <td>0.0</td>\n",
       "      <td>0.91</td>\n",
       "    </tr>\n",
       "    <tr>\n",
       "      <th>3</th>\n",
       "      <td>2017-04-27</td>\n",
       "      <td>146.669998</td>\n",
       "      <td>147.750000</td>\n",
       "      <td>146.139999</td>\n",
       "      <td>147.699997</td>\n",
       "      <td>147.699997</td>\n",
       "      <td>11275100</td>\n",
       "      <td>0.0</td>\n",
       "      <td>0.91</td>\n",
       "    </tr>\n",
       "    <tr>\n",
       "      <th>4</th>\n",
       "      <td>2017-04-28</td>\n",
       "      <td>149.500000</td>\n",
       "      <td>151.529999</td>\n",
       "      <td>149.070007</td>\n",
       "      <td>150.250000</td>\n",
       "      <td>150.250000</td>\n",
       "      <td>30652200</td>\n",
       "      <td>0.0</td>\n",
       "      <td>0.83</td>\n",
       "    </tr>\n",
       "    <tr>\n",
       "      <th>...</th>\n",
       "      <td>...</td>\n",
       "      <td>...</td>\n",
       "      <td>...</td>\n",
       "      <td>...</td>\n",
       "      <td>...</td>\n",
       "      <td>...</td>\n",
       "      <td>...</td>\n",
       "      <td>...</td>\n",
       "      <td>...</td>\n",
       "    </tr>\n",
       "    <tr>\n",
       "      <th>1254</th>\n",
       "      <td>2022-04-14</td>\n",
       "      <td>214.889999</td>\n",
       "      <td>214.990005</td>\n",
       "      <td>210.000000</td>\n",
       "      <td>210.179993</td>\n",
       "      <td>210.179993</td>\n",
       "      <td>18332700</td>\n",
       "      <td>0.0</td>\n",
       "      <td>0.33</td>\n",
       "    </tr>\n",
       "    <tr>\n",
       "      <th>1255</th>\n",
       "      <td>2022-04-18</td>\n",
       "      <td>210.000000</td>\n",
       "      <td>213.380005</td>\n",
       "      <td>208.300003</td>\n",
       "      <td>210.770004</td>\n",
       "      <td>210.770004</td>\n",
       "      <td>16580800</td>\n",
       "      <td>0.0</td>\n",
       "      <td>0.33</td>\n",
       "    </tr>\n",
       "    <tr>\n",
       "      <th>1256</th>\n",
       "      <td>2022-04-19</td>\n",
       "      <td>210.520004</td>\n",
       "      <td>218.429993</td>\n",
       "      <td>209.000000</td>\n",
       "      <td>217.309998</td>\n",
       "      <td>217.309998</td>\n",
       "      <td>20089900</td>\n",
       "      <td>0.0</td>\n",
       "      <td>0.33</td>\n",
       "    </tr>\n",
       "    <tr>\n",
       "      <th>1257</th>\n",
       "      <td>2022-04-20</td>\n",
       "      <td>213.610001</td>\n",
       "      <td>214.160004</td>\n",
       "      <td>198.919998</td>\n",
       "      <td>200.419998</td>\n",
       "      <td>200.419998</td>\n",
       "      <td>43036500</td>\n",
       "      <td>0.0</td>\n",
       "      <td>0.33</td>\n",
       "    </tr>\n",
       "    <tr>\n",
       "      <th>1258</th>\n",
       "      <td>2022-04-21</td>\n",
       "      <td>201.600006</td>\n",
       "      <td>202.970001</td>\n",
       "      <td>185.580002</td>\n",
       "      <td>188.070007</td>\n",
       "      <td>188.070007</td>\n",
       "      <td>49954100</td>\n",
       "      <td>0.0</td>\n",
       "      <td>0.33</td>\n",
       "    </tr>\n",
       "  </tbody>\n",
       "</table>\n",
       "<p>1259 rows × 9 columns</p>\n",
       "</div>"
      ],
      "text/plain": [
       "           Date        Open        High         Low       Close   Adj Close  \\\n",
       "0    2017-04-24  144.960007  145.669998  144.339996  145.470001  145.470001   \n",
       "1    2017-04-25  145.789993  147.149994  145.789993  146.490005  146.490005   \n",
       "2    2017-04-26  147.089996  147.589996  146.089996  146.559998  146.559998   \n",
       "3    2017-04-27  146.669998  147.750000  146.139999  147.699997  147.699997   \n",
       "4    2017-04-28  149.500000  151.529999  149.070007  150.250000  150.250000   \n",
       "...         ...         ...         ...         ...         ...         ...   \n",
       "1254 2022-04-14  214.889999  214.990005  210.000000  210.179993  210.179993   \n",
       "1255 2022-04-18  210.000000  213.380005  208.300003  210.770004  210.770004   \n",
       "1256 2022-04-19  210.520004  218.429993  209.000000  217.309998  217.309998   \n",
       "1257 2022-04-20  213.610001  214.160004  198.919998  200.419998  200.419998   \n",
       "1258 2022-04-21  201.600006  202.970001  185.580002  188.070007  188.070007   \n",
       "\n",
       "        Volume  events   DFF  \n",
       "0     14407200     0.0  0.91  \n",
       "1     17767500     0.0  0.91  \n",
       "2     12395000     0.0  0.91  \n",
       "3     11275100     0.0  0.91  \n",
       "4     30652200     0.0  0.83  \n",
       "...        ...     ...   ...  \n",
       "1254  18332700     0.0  0.33  \n",
       "1255  16580800     0.0  0.33  \n",
       "1256  20089900     0.0  0.33  \n",
       "1257  43036500     0.0  0.33  \n",
       "1258  49954100     0.0  0.33  \n",
       "\n",
       "[1259 rows x 9 columns]"
      ]
     },
     "execution_count": 30,
     "metadata": {},
     "output_type": "execute_result"
    }
   ],
   "source": [
    "data = pd.merge(data, dff, how='left', left_on='Date', right_on='DATE')\n",
    "data = data.drop(['DATE'], axis=1)\n",
    "data"
   ]
  },
  {
   "cell_type": "code",
   "execution_count": 31,
   "id": "300f0e68",
   "metadata": {},
   "outputs": [],
   "source": [
    "data['Date'] = pd.to_datetime(data['Date'])\n",
    "data.index = pd.core.indexes.period.PeriodIndex(data['Date'].tolist(), freq='B')"
   ]
  },
  {
   "cell_type": "code",
   "execution_count": 32,
   "id": "3a3715e3",
   "metadata": {},
   "outputs": [],
   "source": [
    "y_train, y_test = temporal_train_test_split(data, train_size=0.8)"
   ]
  },
  {
   "cell_type": "code",
   "execution_count": 33,
   "id": "65ddabc6",
   "metadata": {},
   "outputs": [
    {
     "name": "stdout",
     "output_type": "stream",
     "text": [
      "                               SARIMAX Results                                \n",
      "==============================================================================\n",
      "Dep. Variable:                  Close   No. Observations:                 1007\n",
      "Model:               SARIMAX(4, 1, 2)   Log Likelihood               -2904.878\n",
      "Date:                Sat, 28 May 2022   AIC                           5827.756\n",
      "Time:                        11:32:15   BIC                           5871.980\n",
      "Sample:                    04-24-2017   HQIC                          5844.559\n",
      "                         - 04-22-2021                                         \n",
      "Covariance Type:                  opg                                         \n",
      "==============================================================================\n",
      "                 coef    std err          z      P>|z|      [0.025      0.975]\n",
      "------------------------------------------------------------------------------\n",
      "events         0.6918      0.341      2.029      0.042       0.024       1.360\n",
      "DFF           10.3097      1.358      7.592      0.000       7.648      12.971\n",
      "ar.L1         -1.6895      0.046    -37.020      0.000      -1.779      -1.600\n",
      "ar.L2         -0.9313      0.067    -13.914      0.000      -1.063      -0.800\n",
      "ar.L3         -0.1262      0.058     -2.181      0.029      -0.240      -0.013\n",
      "ar.L4         -0.0743      0.033     -2.271      0.023      -0.138      -0.010\n",
      "ma.L1          1.6465      0.042     39.274      0.000       1.564       1.729\n",
      "ma.L2          0.8585      0.048     17.840      0.000       0.764       0.953\n",
      "sigma2        18.8624      0.385     48.937      0.000      18.107      19.618\n",
      "===================================================================================\n",
      "Ljung-Box (L1) (Q):                   0.00   Jarque-Bera (JB):              4457.99\n",
      "Prob(Q):                              0.95   Prob(JB):                         0.00\n",
      "Heteroskedasticity (H):               2.63   Skew:                            -0.68\n",
      "Prob(H) (two-sided):                  0.00   Kurtosis:                        13.22\n",
      "===================================================================================\n",
      "\n",
      "Warnings:\n",
      "[1] Covariance matrix calculated using the outer product of gradients (complex-step).\n"
     ]
    },
    {
     "name": "stderr",
     "output_type": "stream",
     "text": [
      "C:\\Users\\11694\\anaconda3\\lib\\site-packages\\statsmodels\\base\\model.py:604: ConvergenceWarning: Maximum Likelihood optimization failed to converge. Check mle_retvals\n",
      "  warnings.warn(\"Maximum Likelihood optimization failed to \"\n"
     ]
    }
   ],
   "source": [
    "arima_model = sm.tsa.statespace.SARIMAX(endog=y_train['Close'], exog=y_train[['events', 'DFF']], order=(4,1,2))\n",
    "arima_fit = arima_model.fit()\n",
    "print(arima_fit.summary())"
   ]
  },
  {
   "cell_type": "code",
   "execution_count": 34,
   "id": "bd2f7461",
   "metadata": {},
   "outputs": [
    {
     "data": {
      "image/png": "[encoded data removed]",
      "text/plain": [
       "<Figure size 432x288 with 1 Axes>"
      ]
     },
     "metadata": {},
     "output_type": "display_data"
    }
   ],
   "source": [
    "y_pred=arima_fit.forecast(exog=y_test[['events','DFF']], steps = len(y_test))\n",
    "\n",
    "plt.grid(visible=True)\n",
    "y_train['Close'].plot(color='darkviolet')\n",
    "y_pred.plot(color='cyan')\n",
    "y_test['Close'].plot(color = 'purple')\n",
    "plt.xticks(rotation=0)\n",
    "plt.style.use('dark_background')"
   ]
  },
  {
   "cell_type": "code",
   "execution_count": 103,
   "id": "7c17d7f4",
   "metadata": {},
   "outputs": [
    {
     "name": "stdout",
     "output_type": "stream",
     "text": [
      "MAE: 50.520557076780015\n",
      "MSE: 3219.2705975467256\n",
      "MAPE: 0.18011176378257265\n",
      "SMAPE: 0.17197930633584974\n"
     ]
    }
   ],
   "source": [
    "y_test = y_test['Close']\n",
    "\n",
    "mae = mean_absolute_error(y_test, y_pred)\n",
    "print(f'MAE: {mae}')\n",
    "mse = mean_squared_error(y_test, y_pred)\n",
    "print(f'MSE: {mse}')\n",
    "mape = mean_absolute_percentage_error(y_test, y_pred, symmetric=False)\n",
    "print(f'MAPE: {mape}')\n",
    "smape = mean_absolute_percentage_error(y_test, y_pred)\n",
    "print(f'SMAPE: {smape}')"
   ]
  },
  {
   "cell_type": "markdown",
   "id": "b393c747",
   "metadata": {},
   "source": [
    "## LSTM"
   ]
  },
  {
   "cell_type": "code",
   "execution_count": 15,
   "id": "c7b246a5",
   "metadata": {},
   "outputs": [],
   "source": [
    "from keras.models import Sequential\n",
    "from keras.layers import Dense\n",
    "from keras.layers import LSTM\n",
    "from keras.layers import Dropout\n",
    "from keras.layers import Activation\n",
    "from keras.layers import BatchNormalization"
   ]
  },
  {
   "cell_type": "markdown",
   "id": "e68584c7",
   "metadata": {},
   "source": [
    "Perform Min-Max Scaler"
   ]
  },
  {
   "cell_type": "code",
   "execution_count": 16,
   "id": "0f89048b",
   "metadata": {},
   "outputs": [
    {
     "data": {
      "text/html": [
       "<div>\n",
       "<style scoped>\n",
       "    .dataframe tbody tr th:only-of-type {\n",
       "        vertical-align: middle;\n",
       "    }\n",
       "\n",
       "    .dataframe tbody tr th {\n",
       "        vertical-align: top;\n",
       "    }\n",
       "\n",
       "    .dataframe thead th {\n",
       "        text-align: right;\n",
       "    }\n",
       "</style>\n",
       "<table border=\"1\" class=\"dataframe\">\n",
       "  <thead>\n",
       "    <tr style=\"text-align: right;\">\n",
       "      <th></th>\n",
       "      <th>Date</th>\n",
       "      <th>Open</th>\n",
       "      <th>High</th>\n",
       "      <th>Low</th>\n",
       "      <th>Close</th>\n",
       "      <th>Adj Close</th>\n",
       "      <th>Volume</th>\n",
       "      <th>events</th>\n",
       "      <th>DFF</th>\n",
       "    </tr>\n",
       "  </thead>\n",
       "  <tbody>\n",
       "    <tr>\n",
       "      <th>2017-04-24</th>\n",
       "      <td>2017-04-24</td>\n",
       "      <td>144.960007</td>\n",
       "      <td>145.669998</td>\n",
       "      <td>144.339996</td>\n",
       "      <td>0.082946</td>\n",
       "      <td>145.470001</td>\n",
       "      <td>0.045920</td>\n",
       "      <td>0.0</td>\n",
       "      <td>0.360996</td>\n",
       "    </tr>\n",
       "    <tr>\n",
       "      <th>2017-04-25</th>\n",
       "      <td>2017-04-25</td>\n",
       "      <td>145.789993</td>\n",
       "      <td>147.149994</td>\n",
       "      <td>145.789993</td>\n",
       "      <td>0.086898</td>\n",
       "      <td>146.490005</td>\n",
       "      <td>0.064376</td>\n",
       "      <td>0.0</td>\n",
       "      <td>0.360996</td>\n",
       "    </tr>\n",
       "    <tr>\n",
       "      <th>2017-04-26</th>\n",
       "      <td>2017-04-26</td>\n",
       "      <td>147.089996</td>\n",
       "      <td>147.589996</td>\n",
       "      <td>146.089996</td>\n",
       "      <td>0.087169</td>\n",
       "      <td>146.559998</td>\n",
       "      <td>0.034869</td>\n",
       "      <td>0.0</td>\n",
       "      <td>0.360996</td>\n",
       "    </tr>\n",
       "    <tr>\n",
       "      <th>2017-04-27</th>\n",
       "      <td>2017-04-27</td>\n",
       "      <td>146.669998</td>\n",
       "      <td>147.750000</td>\n",
       "      <td>146.139999</td>\n",
       "      <td>0.091585</td>\n",
       "      <td>147.699997</td>\n",
       "      <td>0.028718</td>\n",
       "      <td>0.0</td>\n",
       "      <td>0.360996</td>\n",
       "    </tr>\n",
       "    <tr>\n",
       "      <th>2017-04-28</th>\n",
       "      <td>2017-04-28</td>\n",
       "      <td>149.500000</td>\n",
       "      <td>151.529999</td>\n",
       "      <td>149.070007</td>\n",
       "      <td>0.101464</td>\n",
       "      <td>150.250000</td>\n",
       "      <td>0.135143</td>\n",
       "      <td>0.0</td>\n",
       "      <td>0.327801</td>\n",
       "    </tr>\n",
       "  </tbody>\n",
       "</table>\n",
       "</div>"
      ],
      "text/plain": [
       "                 Date        Open        High         Low     Close  \\\n",
       "2017-04-24 2017-04-24  144.960007  145.669998  144.339996  0.082946   \n",
       "2017-04-25 2017-04-25  145.789993  147.149994  145.789993  0.086898   \n",
       "2017-04-26 2017-04-26  147.089996  147.589996  146.089996  0.087169   \n",
       "2017-04-27 2017-04-27  146.669998  147.750000  146.139999  0.091585   \n",
       "2017-04-28 2017-04-28  149.500000  151.529999  149.070007  0.101464   \n",
       "\n",
       "             Adj Close    Volume  events       DFF  \n",
       "2017-04-24  145.470001  0.045920     0.0  0.360996  \n",
       "2017-04-25  146.490005  0.064376     0.0  0.360996  \n",
       "2017-04-26  146.559998  0.034869     0.0  0.360996  \n",
       "2017-04-27  147.699997  0.028718     0.0  0.360996  \n",
       "2017-04-28  150.250000  0.135143     0.0  0.327801  "
      ]
     },
     "execution_count": 16,
     "metadata": {},
     "output_type": "execute_result"
    }
   ],
   "source": [
    "temp1 = np.array(data)\n",
    "\n",
    "price = temp1[:,4].flatten()\n",
    "max_price = max(price)\n",
    "min_price = min(price)\n",
    "\n",
    "vol = temp1[:,6].flatten()\n",
    "max_vol = max(vol)\n",
    "min_vol = min(vol)\n",
    "\n",
    "dff = temp1[:,8].flatten()\n",
    "max_dff = max(dff)\n",
    "min_dff = min(dff)\n",
    "\n",
    "df1_new = data.copy()\n",
    "df1_new.iloc[:,4] = (df1_new.iloc[:,4]-min_price)/(max_price-min_price)\n",
    "df1_new.iloc[:,6] = (df1_new.iloc[:,6]-min_vol)/(max_vol-min_vol)\n",
    "df1_new.iloc[:,8] = (df1_new.iloc[:,8]-min_dff)/(max_dff-min_dff)\n",
    "\n",
    "df1_new.head()"
   ]
  },
  {
   "cell_type": "markdown",
   "id": "ba00492c",
   "metadata": {},
   "source": [
    "Generate training data"
   ]
  },
  {
   "cell_type": "code",
   "execution_count": 17,
   "id": "6bf233a6",
   "metadata": {},
   "outputs": [],
   "source": [
    "days = 60\n",
    "test_num = 252\n",
    "x = np.array(df1_new[['Close','Volume','events','DFF']])\n",
    "y = x[:,0]\n",
    "size = x.shape\n",
    "all_x = np.zeros(shape=((size[0]-days),days,size[1]))\n",
    "for i in range(size[0]-days):\n",
    "    x_temp = x[i:i+days,:]\n",
    "    all_x[i,:,:] = x_temp\n",
    "all_y = y[days:]\n",
    "\n",
    "X_train = all_x[:-test_num,:,:]\n",
    "y_train = all_y[:-test_num]\n",
    "X_test = all_x[-test_num:,:,:]\n",
    "y_test = all_y[-test_num:]"
   ]
  },
  {
   "cell_type": "code",
   "execution_count": 316,
   "id": "224cb3cc",
   "metadata": {},
   "outputs": [
    {
     "data": {
      "text/plain": [
       "(947, 60, 4)"
      ]
     },
     "execution_count": 316,
     "metadata": {},
     "output_type": "execute_result"
    }
   ],
   "source": [
    "X_train.shape"
   ]
  },
  {
   "cell_type": "code",
   "execution_count": 18,
   "id": "e6e00b06",
   "metadata": {},
   "outputs": [],
   "source": [
    "regressor = Sequential()\n",
    "regressor.add(LSTM(units = 50, return_sequences = True, activation='relu', input_shape = (X_train.shape[1], X_train.shape[2])))\n",
    "regressor.add(Dropout(0.2))\n",
    "regressor.add(LSTM(units = 50, return_sequences = True))\n",
    "regressor.add(Dropout(0.2))\n",
    "regressor.add(LSTM(units = 50, return_sequences = True))\n",
    "regressor.add(Dropout(0.2))\n",
    "regressor.add(LSTM(units = 50))\n",
    "regressor.add(Dropout(0.2))\n",
    "regressor.add(Dense(units = 1))"
   ]
  },
  {
   "cell_type": "code",
   "execution_count": 31,
   "id": "60c53203",
   "metadata": {},
   "outputs": [
    {
     "name": "stdout",
     "output_type": "stream",
     "text": [
      "Model: \"sequential\"\n",
      "_________________________________________________________________\n",
      " Layer (type)                Output Shape              Param #   \n",
      "=================================================================\n",
      " lstm (LSTM)                 (None, 60, 50)            11000     \n",
      "                                                                 \n",
      " dropout (Dropout)           (None, 60, 50)            0         \n",
      "                                                                 \n",
      " lstm_1 (LSTM)               (None, 60, 50)            20200     \n",
      "                                                                 \n",
      " dropout_1 (Dropout)         (None, 60, 50)            0         \n",
      "                                                                 \n",
      " lstm_2 (LSTM)               (None, 60, 50)            20200     \n",
      "                                                                 \n",
      " dropout_2 (Dropout)         (None, 60, 50)            0         \n",
      "                                                                 \n",
      " lstm_3 (LSTM)               (None, 50)                20200     \n",
      "                                                                 \n",
      " dropout_3 (Dropout)         (None, 50)                0         \n",
      "                                                                 \n",
      " dense (Dense)               (None, 1)                 51        \n",
      "                                                                 \n",
      "=================================================================\n",
      "Total params: 71,651\n",
      "Trainable params: 71,651\n",
      "Non-trainable params: 0\n",
      "_________________________________________________________________\n"
     ]
    }
   ],
   "source": [
    "regressor.summary()"
   ]
  },
  {
   "cell_type": "code",
   "execution_count": 19,
   "id": "663d1ae6",
   "metadata": {
    "scrolled": true
   },
   "outputs": [
    {
     "name": "stdout",
     "output_type": "stream",
     "text": [
      "Epoch 1/200\n",
      "15/15 [==============================] - 31s 372ms/step - loss: 0.0548\n",
      "Epoch 2/200\n",
      "15/15 [==============================] - 5s 319ms/step - loss: 0.0316\n",
      "Epoch 3/200\n",
      "15/15 [==============================] - 5s 312ms/step - loss: 0.0297\n",
      "Epoch 4/200\n",
      "15/15 [==============================] - 5s 338ms/step - loss: 0.0289\n",
      "Epoch 5/200\n",
      "15/15 [==============================] - 4s 294ms/step - loss: 0.0283\n",
      "Epoch 6/200\n",
      "15/15 [==============================] - 5s 296ms/step - loss: 0.0271\n",
      "Epoch 7/200\n",
      "15/15 [==============================] - 5s 301ms/step - loss: 0.0263\n",
      "Epoch 8/200\n",
      "15/15 [==============================] - 5s 314ms/step - loss: 0.0255\n",
      "Epoch 9/200\n",
      "15/15 [==============================] - 5s 332ms/step - loss: 0.0246\n",
      "Epoch 10/200\n",
      "15/15 [==============================] - 5s 306ms/step - loss: 0.0242\n",
      "Epoch 11/200\n",
      "15/15 [==============================] - 5s 306ms/step - loss: 0.0234\n",
      "Epoch 12/200\n",
      "15/15 [==============================] - 5s 302ms/step - loss: 0.0231\n",
      "Epoch 13/200\n",
      "15/15 [==============================] - 5s 302ms/step - loss: 0.0225\n",
      "Epoch 14/200\n",
      "15/15 [==============================] - 4s 294ms/step - loss: 0.0216\n",
      "Epoch 15/200\n",
      "15/15 [==============================] - 4s 293ms/step - loss: 0.0211\n",
      "Epoch 16/200\n",
      "15/15 [==============================] - 5s 305ms/step - loss: 0.0203\n",
      "Epoch 17/200\n",
      "15/15 [==============================] - 4s 298ms/step - loss: 0.0196\n",
      "Epoch 18/200\n",
      "15/15 [==============================] - 5s 303ms/step - loss: 0.0190\n",
      "Epoch 19/200\n",
      "15/15 [==============================] - 4s 299ms/step - loss: 0.0180\n",
      "Epoch 20/200\n",
      "15/15 [==============================] - 5s 321ms/step - loss: 0.0173\n",
      "Epoch 21/200\n",
      "15/15 [==============================] - 4s 298ms/step - loss: 0.0164\n",
      "Epoch 22/200\n",
      "15/15 [==============================] - 5s 304ms/step - loss: 0.0162\n",
      "Epoch 23/200\n",
      "15/15 [==============================] - 5s 306ms/step - loss: 0.0158\n",
      "Epoch 24/200\n",
      "15/15 [==============================] - 5s 327ms/step - loss: 0.0149\n",
      "Epoch 25/200\n",
      "15/15 [==============================] - 5s 310ms/step - loss: 0.0142\n",
      "Epoch 26/200\n",
      "15/15 [==============================] - 5s 302ms/step - loss: 0.0131\n",
      "Epoch 27/200\n",
      "15/15 [==============================] - 5s 315ms/step - loss: 0.0127\n",
      "Epoch 28/200\n",
      "15/15 [==============================] - 5s 314ms/step - loss: 0.0127\n",
      "Epoch 29/200\n",
      "15/15 [==============================] - 5s 344ms/step - loss: 0.0118\n",
      "Epoch 30/200\n",
      "15/15 [==============================] - 5s 346ms/step - loss: 0.0111\n",
      "Epoch 31/200\n",
      "15/15 [==============================] - 5s 323ms/step - loss: 0.0108\n",
      "Epoch 32/200\n",
      "15/15 [==============================] - 5s 320ms/step - loss: 0.0104\n",
      "Epoch 33/200\n",
      "15/15 [==============================] - 5s 337ms/step - loss: 0.0102\n",
      "Epoch 34/200\n",
      "15/15 [==============================] - 5s 306ms/step - loss: 0.0100\n",
      "Epoch 35/200\n",
      "15/15 [==============================] - 4s 289ms/step - loss: 0.0094\n",
      "Epoch 36/200\n",
      "15/15 [==============================] - 4s 278ms/step - loss: 0.0094\n",
      "Epoch 37/200\n",
      "15/15 [==============================] - 4s 295ms/step - loss: 0.0094\n",
      "Epoch 38/200\n",
      "15/15 [==============================] - 4s 284ms/step - loss: 0.0094\n",
      "Epoch 39/200\n",
      "15/15 [==============================] - 4s 294ms/step - loss: 0.0091\n",
      "Epoch 40/200\n",
      "15/15 [==============================] - 4s 289ms/step - loss: 0.0086\n",
      "Epoch 41/200\n",
      "15/15 [==============================] - 4s 287ms/step - loss: 0.0087\n",
      "Epoch 42/200\n",
      "15/15 [==============================] - 4s 288ms/step - loss: 0.0088\n",
      "Epoch 43/200\n",
      "15/15 [==============================] - 4s 279ms/step - loss: 0.0086\n",
      "Epoch 44/200\n",
      "15/15 [==============================] - 4s 296ms/step - loss: 0.0086\n",
      "Epoch 45/200\n",
      "15/15 [==============================] - 4s 279ms/step - loss: 0.0085\n",
      "Epoch 46/200\n",
      "15/15 [==============================] - 5s 317ms/step - loss: 0.0082\n",
      "Epoch 47/200\n",
      "15/15 [==============================] - 4s 248ms/step - loss: 0.0082\n",
      "Epoch 48/200\n",
      "15/15 [==============================] - 4s 236ms/step - loss: 0.0080\n",
      "Epoch 49/200\n",
      "15/15 [==============================] - 4s 272ms/step - loss: 0.0082\n",
      "Epoch 50/200\n",
      "15/15 [==============================] - 4s 290ms/step - loss: 0.0079\n",
      "Epoch 51/200\n",
      "15/15 [==============================] - 5s 309ms/step - loss: 0.0079\n",
      "Epoch 52/200\n",
      "15/15 [==============================] - 5s 321ms/step - loss: 0.0077\n",
      "Epoch 53/200\n",
      "15/15 [==============================] - 5s 306ms/step - loss: 0.0076\n",
      "Epoch 54/200\n",
      "15/15 [==============================] - 4s 295ms/step - loss: 0.0078\n",
      "Epoch 55/200\n",
      "15/15 [==============================] - 4s 291ms/step - loss: 0.0074\n",
      "Epoch 56/200\n",
      "15/15 [==============================] - 4s 296ms/step - loss: 0.0072\n",
      "Epoch 57/200\n",
      "15/15 [==============================] - 4s 297ms/step - loss: 0.0075\n",
      "Epoch 58/200\n",
      "15/15 [==============================] - 4s 291ms/step - loss: 0.0074\n",
      "Epoch 59/200\n",
      "15/15 [==============================] - 4s 283ms/step - loss: 0.0070\n",
      "Epoch 60/200\n",
      "15/15 [==============================] - 4s 295ms/step - loss: 0.0073\n",
      "Epoch 61/200\n",
      "15/15 [==============================] - 4s 282ms/step - loss: 0.0073\n",
      "Epoch 62/200\n",
      "15/15 [==============================] - 4s 276ms/step - loss: 0.0070\n",
      "Epoch 63/200\n",
      "15/15 [==============================] - 4s 297ms/step - loss: 0.0073\n",
      "Epoch 64/200\n",
      "15/15 [==============================] - 4s 279ms/step - loss: 0.0070\n",
      "Epoch 65/200\n",
      "15/15 [==============================] - 4s 281ms/step - loss: 0.0072\n",
      "Epoch 66/200\n",
      "15/15 [==============================] - 4s 291ms/step - loss: 0.0067\n",
      "Epoch 67/200\n",
      "15/15 [==============================] - 4s 294ms/step - loss: 0.0067\n",
      "Epoch 68/200\n",
      "15/15 [==============================] - 4s 294ms/step - loss: 0.0066\n",
      "Epoch 69/200\n",
      "15/15 [==============================] - 4s 279ms/step - loss: 0.0062\n",
      "Epoch 70/200\n",
      "15/15 [==============================] - 4s 284ms/step - loss: 0.0068\n",
      "Epoch 71/200\n",
      "15/15 [==============================] - 4s 277ms/step - loss: 0.0064\n",
      "Epoch 72/200\n",
      "15/15 [==============================] - 4s 288ms/step - loss: 0.0065\n",
      "Epoch 73/200\n",
      "15/15 [==============================] - 4s 281ms/step - loss: 0.0063\n",
      "Epoch 74/200\n",
      "15/15 [==============================] - 4s 298ms/step - loss: 0.0062\n",
      "Epoch 75/200\n",
      "15/15 [==============================] - 5s 322ms/step - loss: 0.0059\n",
      "Epoch 76/200\n",
      "15/15 [==============================] - 5s 322ms/step - loss: 0.0059\n",
      "Epoch 77/200\n",
      "15/15 [==============================] - 5s 330ms/step - loss: 0.0059\n",
      "Epoch 78/200\n",
      "15/15 [==============================] - 4s 282ms/step - loss: 0.0060\n",
      "Epoch 79/200\n",
      "15/15 [==============================] - 4s 276ms/step - loss: 0.0056\n",
      "Epoch 80/200\n",
      "15/15 [==============================] - 7s 435ms/step - loss: 0.0058\n",
      "Epoch 81/200\n",
      "15/15 [==============================] - 5s 365ms/step - loss: 0.0059\n",
      "Epoch 82/200\n",
      "15/15 [==============================] - 5s 336ms/step - loss: 0.0058\n",
      "Epoch 83/200\n",
      "15/15 [==============================] - 5s 361ms/step - loss: 0.0056\n",
      "Epoch 84/200\n",
      "15/15 [==============================] - 5s 348ms/step - loss: 0.0054\n",
      "Epoch 85/200\n",
      "15/15 [==============================] - 4s 300ms/step - loss: 0.0055\n",
      "Epoch 86/200\n",
      "15/15 [==============================] - 5s 311ms/step - loss: 0.0051\n",
      "Epoch 87/200\n",
      "15/15 [==============================] - 5s 325ms/step - loss: 0.0053\n",
      "Epoch 88/200\n",
      "15/15 [==============================] - 4s 289ms/step - loss: 0.0054\n",
      "Epoch 89/200\n",
      "15/15 [==============================] - 5s 309ms/step - loss: 0.0054\n",
      "Epoch 90/200\n",
      "15/15 [==============================] - 5s 320ms/step - loss: 0.0052\n",
      "Epoch 91/200\n",
      "15/15 [==============================] - 5s 352ms/step - loss: 0.0052\n",
      "Epoch 92/200\n",
      "15/15 [==============================] - 5s 332ms/step - loss: 0.0049\n",
      "Epoch 93/200\n",
      "15/15 [==============================] - 5s 322ms/step - loss: 0.0051\n",
      "Epoch 94/200\n",
      "15/15 [==============================] - 5s 331ms/step - loss: 0.0052\n",
      "Epoch 95/200\n",
      "15/15 [==============================] - 5s 306ms/step - loss: 0.0051\n",
      "Epoch 96/200\n",
      "15/15 [==============================] - 4s 297ms/step - loss: 0.0047\n",
      "Epoch 97/200\n",
      "15/15 [==============================] - 5s 303ms/step - loss: 0.0051\n",
      "Epoch 98/200\n",
      "15/15 [==============================] - 5s 352ms/step - loss: 0.0049\n",
      "Epoch 99/200\n"
     ]
    },
    {
     "name": "stdout",
     "output_type": "stream",
     "text": [
      "15/15 [==============================] - 5s 306ms/step - loss: 0.0051\n",
      "Epoch 100/200\n",
      "15/15 [==============================] - 4s 275ms/step - loss: 0.0049\n",
      "Epoch 101/200\n",
      "15/15 [==============================] - 5s 309ms/step - loss: 0.0048\n",
      "Epoch 102/200\n",
      "15/15 [==============================] - 5s 307ms/step - loss: 0.0049\n",
      "Epoch 103/200\n",
      "15/15 [==============================] - 4s 301ms/step - loss: 0.0050\n",
      "Epoch 104/200\n",
      "15/15 [==============================] - 5s 304ms/step - loss: 0.0046\n",
      "Epoch 105/200\n",
      "15/15 [==============================] - 4s 296ms/step - loss: 0.0048\n",
      "Epoch 106/200\n",
      "15/15 [==============================] - 5s 304ms/step - loss: 0.0045\n",
      "Epoch 107/200\n",
      "15/15 [==============================] - 4s 297ms/step - loss: 0.0046\n",
      "Epoch 108/200\n",
      "15/15 [==============================] - 5s 301ms/step - loss: 0.0045\n",
      "Epoch 109/200\n",
      "15/15 [==============================] - 5s 318ms/step - loss: 0.0047\n",
      "Epoch 110/200\n",
      "15/15 [==============================] - 5s 303ms/step - loss: 0.0043\n",
      "Epoch 111/200\n",
      "15/15 [==============================] - 4s 296ms/step - loss: 0.0043\n",
      "Epoch 112/200\n",
      "15/15 [==============================] - 4s 290ms/step - loss: 0.0043\n",
      "Epoch 113/200\n",
      "15/15 [==============================] - 4s 281ms/step - loss: 0.0042\n",
      "Epoch 114/200\n",
      "15/15 [==============================] - 4s 290ms/step - loss: 0.0043\n",
      "Epoch 115/200\n",
      "15/15 [==============================] - 4s 296ms/step - loss: 0.0043\n",
      "Epoch 116/200\n",
      "15/15 [==============================] - 4s 284ms/step - loss: 0.0042\n",
      "Epoch 117/200\n",
      "15/15 [==============================] - 5s 308ms/step - loss: 0.0041\n",
      "Epoch 118/200\n",
      "15/15 [==============================] - 5s 360ms/step - loss: 0.0042\n",
      "Epoch 119/200\n",
      "15/15 [==============================] - 5s 345ms/step - loss: 0.0044\n",
      "Epoch 120/200\n",
      "15/15 [==============================] - 5s 304ms/step - loss: 0.0041\n",
      "Epoch 121/200\n",
      "15/15 [==============================] - 4s 281ms/step - loss: 0.0042\n",
      "Epoch 122/200\n",
      "15/15 [==============================] - 4s 263ms/step - loss: 0.0043\n",
      "Epoch 123/200\n",
      "15/15 [==============================] - 4s 295ms/step - loss: 0.0042\n",
      "Epoch 124/200\n",
      "15/15 [==============================] - 5s 313ms/step - loss: 0.0040\n",
      "Epoch 125/200\n",
      "15/15 [==============================] - 5s 367ms/step - loss: 0.0039\n",
      "Epoch 126/200\n",
      "15/15 [==============================] - 5s 341ms/step - loss: 0.0041\n",
      "Epoch 127/200\n",
      "15/15 [==============================] - 5s 309ms/step - loss: 0.0041\n",
      "Epoch 128/200\n",
      "15/15 [==============================] - 5s 302ms/step - loss: 0.0042\n",
      "Epoch 129/200\n",
      "15/15 [==============================] - 5s 314ms/step - loss: 0.0043\n",
      "Epoch 130/200\n",
      "15/15 [==============================] - 5s 318ms/step - loss: 0.0039\n",
      "Epoch 131/200\n",
      "15/15 [==============================] - 5s 305ms/step - loss: 0.0040\n",
      "Epoch 132/200\n",
      "15/15 [==============================] - 4s 292ms/step - loss: 0.0040\n",
      "Epoch 133/200\n",
      "15/15 [==============================] - 5s 367ms/step - loss: 0.0040\n",
      "Epoch 134/200\n",
      "15/15 [==============================] - 5s 296ms/step - loss: 0.0041\n",
      "Epoch 135/200\n",
      "15/15 [==============================] - 4s 290ms/step - loss: 0.0040\n",
      "Epoch 136/200\n",
      "15/15 [==============================] - 5s 343ms/step - loss: 0.0039\n",
      "Epoch 137/200\n",
      "15/15 [==============================] - 5s 335ms/step - loss: 0.0040\n",
      "Epoch 138/200\n",
      "15/15 [==============================] - 5s 320ms/step - loss: 0.0038\n",
      "Epoch 139/200\n",
      "15/15 [==============================] - 5s 304ms/step - loss: 0.0039\n",
      "Epoch 140/200\n",
      "15/15 [==============================] - 5s 315ms/step - loss: 0.0039\n",
      "Epoch 141/200\n",
      "15/15 [==============================] - 5s 303ms/step - loss: 0.0040\n",
      "Epoch 142/200\n",
      "15/15 [==============================] - 5s 319ms/step - loss: 0.0037\n",
      "Epoch 143/200\n",
      "15/15 [==============================] - 5s 304ms/step - loss: 0.0039\n",
      "Epoch 144/200\n",
      "15/15 [==============================] - 5s 329ms/step - loss: 0.0037\n",
      "Epoch 145/200\n",
      "15/15 [==============================] - 5s 306ms/step - loss: 0.0037\n",
      "Epoch 146/200\n",
      "15/15 [==============================] - 5s 326ms/step - loss: 0.0037\n",
      "Epoch 147/200\n",
      "15/15 [==============================] - 4s 299ms/step - loss: 0.0038\n",
      "Epoch 148/200\n",
      "15/15 [==============================] - 5s 310ms/step - loss: 0.0038\n",
      "Epoch 149/200\n",
      "15/15 [==============================] - 5s 327ms/step - loss: 0.0037\n",
      "Epoch 150/200\n",
      "15/15 [==============================] - 5s 317ms/step - loss: 0.0036\n",
      "Epoch 151/200\n",
      "15/15 [==============================] - 5s 342ms/step - loss: 0.0039\n",
      "Epoch 152/200\n",
      "15/15 [==============================] - 5s 326ms/step - loss: 0.0036\n",
      "Epoch 153/200\n",
      "15/15 [==============================] - 5s 338ms/step - loss: 0.0037\n",
      "Epoch 154/200\n",
      "15/15 [==============================] - 5s 333ms/step - loss: 0.0037\n",
      "Epoch 155/200\n",
      "15/15 [==============================] - 5s 332ms/step - loss: 0.0036\n",
      "Epoch 156/200\n",
      "15/15 [==============================] - 5s 325ms/step - loss: 0.0039\n",
      "Epoch 157/200\n",
      "15/15 [==============================] - 5s 304ms/step - loss: 0.0036\n",
      "Epoch 158/200\n",
      "15/15 [==============================] - 5s 306ms/step - loss: 0.0037\n",
      "Epoch 159/200\n",
      "15/15 [==============================] - 5s 320ms/step - loss: 0.0037\n",
      "Epoch 160/200\n",
      "15/15 [==============================] - 5s 310ms/step - loss: 0.0040\n",
      "Epoch 161/200\n",
      "15/15 [==============================] - 5s 328ms/step - loss: 0.0038\n",
      "Epoch 162/200\n",
      "15/15 [==============================] - 5s 303ms/step - loss: 0.0037\n",
      "Epoch 163/200\n",
      "15/15 [==============================] - 6s 374ms/step - loss: 0.0036\n",
      "Epoch 164/200\n",
      "15/15 [==============================] - 5s 360ms/step - loss: 0.0037\n",
      "Epoch 165/200\n",
      "15/15 [==============================] - 5s 346ms/step - loss: 0.0038\n",
      "Epoch 166/200\n",
      "15/15 [==============================] - 5s 353ms/step - loss: 0.0035\n",
      "Epoch 167/200\n",
      "15/15 [==============================] - 5s 349ms/step - loss: 0.0036\n",
      "Epoch 168/200\n",
      "15/15 [==============================] - 5s 321ms/step - loss: 0.0037\n",
      "Epoch 169/200\n",
      "15/15 [==============================] - 5s 355ms/step - loss: 0.0037\n",
      "Epoch 170/200\n",
      "15/15 [==============================] - 5s 345ms/step - loss: 0.0037\n",
      "Epoch 171/200\n",
      "15/15 [==============================] - 5s 339ms/step - loss: 0.0033\n",
      "Epoch 172/200\n",
      "15/15 [==============================] - 5s 339ms/step - loss: 0.0037\n",
      "Epoch 173/200\n",
      "15/15 [==============================] - 5s 345ms/step - loss: 0.0035\n",
      "Epoch 174/200\n",
      "15/15 [==============================] - 5s 325ms/step - loss: 0.0038\n",
      "Epoch 175/200\n",
      "15/15 [==============================] - 5s 346ms/step - loss: 0.0036\n",
      "Epoch 176/200\n",
      "15/15 [==============================] - 5s 346ms/step - loss: 0.0036\n",
      "Epoch 177/200\n",
      "15/15 [==============================] - 5s 345ms/step - loss: 0.0036\n",
      "Epoch 178/200\n",
      "15/15 [==============================] - 5s 349ms/step - loss: 0.0035\n",
      "Epoch 179/200\n",
      "15/15 [==============================] - 6s 379ms/step - loss: 0.0035\n",
      "Epoch 180/200\n",
      "15/15 [==============================] - 5s 368ms/step - loss: 0.0036\n",
      "Epoch 181/200\n",
      "15/15 [==============================] - 6s 401ms/step - loss: 0.0035\n",
      "Epoch 182/200\n",
      "15/15 [==============================] - 6s 375ms/step - loss: 0.0035\n",
      "Epoch 183/200\n",
      "15/15 [==============================] - 5s 344ms/step - loss: 0.0036\n",
      "Epoch 184/200\n",
      "15/15 [==============================] - 6s 382ms/step - loss: 0.0035\n",
      "Epoch 185/200\n",
      "15/15 [==============================] - 5s 355ms/step - loss: 0.0034\n",
      "Epoch 186/200\n",
      "15/15 [==============================] - 5s 350ms/step - loss: 0.0037\n",
      "Epoch 187/200\n",
      "15/15 [==============================] - 5s 335ms/step - loss: 0.0034\n",
      "Epoch 188/200\n",
      "15/15 [==============================] - 5s 334ms/step - loss: 0.0034\n",
      "Epoch 189/200\n",
      "15/15 [==============================] - 5s 312ms/step - loss: 0.0035\n",
      "Epoch 190/200\n",
      "15/15 [==============================] - 5s 318ms/step - loss: 0.0036\n",
      "Epoch 191/200\n",
      "15/15 [==============================] - 5s 345ms/step - loss: 0.0034\n",
      "Epoch 192/200\n",
      "15/15 [==============================] - 5s 308ms/step - loss: 0.0034\n",
      "Epoch 193/200\n",
      "15/15 [==============================] - 5s 329ms/step - loss: 0.0035\n",
      "Epoch 194/200\n",
      "15/15 [==============================] - 5s 308ms/step - loss: 0.0033\n",
      "Epoch 195/200\n",
      "15/15 [==============================] - 5s 321ms/step - loss: 0.0034\n",
      "Epoch 196/200\n"
     ]
    },
    {
     "name": "stdout",
     "output_type": "stream",
     "text": [
      "15/15 [==============================] - 5s 324ms/step - loss: 0.0034\n",
      "Epoch 197/200\n",
      "15/15 [==============================] - 5s 313ms/step - loss: 0.0034\n",
      "Epoch 198/200\n",
      "15/15 [==============================] - 5s 320ms/step - loss: 0.0035\n",
      "Epoch 199/200\n",
      "15/15 [==============================] - 5s 316ms/step - loss: 0.0035\n",
      "Epoch 200/200\n",
      "15/15 [==============================] - 5s 329ms/step - loss: 0.0036\n"
     ]
    },
    {
     "data": {
      "text/plain": [
       "<keras.callbacks.History at 0x25edd075d30>"
      ]
     },
     "execution_count": 19,
     "metadata": {},
     "output_type": "execute_result"
    }
   ],
   "source": [
    "regressor.compile(optimizer = 'sgd', loss = 'mean_squared_error')\n",
    "regressor.fit(X_train, y_train, epochs = 200, batch_size = 64)"
   ]
  },
  {
   "cell_type": "code",
   "execution_count": 20,
   "id": "ca305a72",
   "metadata": {},
   "outputs": [],
   "source": [
    "def inverse_scaler(x):\n",
    "    return x * (max_price - min_price) + min_price"
   ]
  },
  {
   "cell_type": "code",
   "execution_count": 22,
   "id": "f61dc031",
   "metadata": {},
   "outputs": [
    {
     "data": {
      "image/png": "[encoded data removed]",
      "text/plain": [
       "<Figure size 432x288 with 1 Axes>"
      ]
     },
     "metadata": {},
     "output_type": "display_data"
    }
   ],
   "source": [
    "y_pred = regressor.predict(X_test)\n",
    "y_pred = inverse_scaler(y_pred).reshape(-1)\n",
    "\n",
    "y_pred = pd.Series(y_pred)\n",
    "y_pred.index = data.iloc[1007:].index\n",
    "y_train = data.iloc[:1006]['Close']\n",
    "y_test = data.iloc[1007:][ 'Close']\n",
    "\n",
    "plt.grid(visible=True)\n",
    "y_train.plot(color='darkviolet')\n",
    "y_pred.plot(color='cyan')\n",
    "y_test.plot(color = 'purple')\n",
    "plt.style.use('dark_background')"
   ]
  },
  {
   "cell_type": "code",
   "execution_count": 353,
   "id": "587bb36d",
   "metadata": {},
   "outputs": [
    {
     "name": "stdout",
     "output_type": "stream",
     "text": [
      "MAE: 31.42226151050192\n",
      "MSE: 1361.4548336207897\n",
      "MAPE: 0.10761703621585357\n",
      "SMAPE: 0.10578615659461364\n"
     ]
    }
   ],
   "source": [
    "mae = mean_absolute_error(y_test, y_pred)\n",
    "print(f'MAE: {mae}')\n",
    "mse = mean_squared_error(y_test, y_pred)\n",
    "print(f'MSE: {mse}')\n",
    "mape = mean_absolute_percentage_error(y_test, y_pred, symmetric=False)\n",
    "print(f'MAPE: {mape}')\n",
    "smape = mean_absolute_percentage_error(y_test, y_pred)\n",
    "print(f'SMAPE: {smape}')"
   ]
  }
 ],
 "metadata": {
  "kernelspec": {
   "display_name": "Python 3 (ipykernel)",
   "language": "python",
   "name": "python3"
  },
  "language_info": {
   "codemirror_mode": {
    "name": "ipython",
    "version": 3
   },
   "file_extension": ".py",
   "mimetype": "text/x-python",
   "name": "python",
   "nbconvert_exporter": "python",
   "pygments_lexer": "ipython3",
   "version": "3.9.12"
  }
 },
 "nbformat": 4,
 "nbformat_minor": 5
}
